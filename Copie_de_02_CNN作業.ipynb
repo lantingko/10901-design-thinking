{
  "nbformat": 4,
  "nbformat_minor": 0,
  "metadata": {
    "kernelspec": {
      "display_name": "Python 3",
      "language": "python",
      "name": "python3"
    },
    "language_info": {
      "codemirror_mode": {
        "name": "ipython",
        "version": 3
      },
      "file_extension": ".py",
      "mimetype": "text/x-python",
      "name": "python",
      "nbconvert_exporter": "python",
      "pygments_lexer": "ipython3",
      "version": "3.7.3"
    },
    "colab": {
      "name": "Copie de 02 CNN.ipynb",
      "provenance": [],
      "collapsed_sections": []
    },
    "accelerator": "GPU",
    "widgets": {
      "application/vnd.jupyter.widget-state+json": {
        "843a00d0b20644eeb1779733d5cd00be": {
          "model_module": "@jupyter-widgets/controls",
          "model_name": "VBoxModel",
          "state": {
            "_view_name": "VBoxView",
            "_dom_classes": [
              "widget-interact"
            ],
            "_model_name": "VBoxModel",
            "_view_module": "@jupyter-widgets/controls",
            "_model_module_version": "1.5.0",
            "_view_count": null,
            "_view_module_version": "1.5.0",
            "box_style": "",
            "layout": "IPY_MODEL_86d966437e964a4b939c0f44fef08db6",
            "_model_module": "@jupyter-widgets/controls",
            "children": [
              "IPY_MODEL_39e3f2faae18410eb57481c131bbce3a",
              "IPY_MODEL_27a6cf2868cb4f178981d229f0dbabad",
              "IPY_MODEL_761c84c47d584dbead03e9c91ff954b0"
            ]
          }
        },
        "86d966437e964a4b939c0f44fef08db6": {
          "model_module": "@jupyter-widgets/base",
          "model_name": "LayoutModel",
          "state": {
            "_view_name": "LayoutView",
            "grid_template_rows": null,
            "right": null,
            "justify_content": null,
            "_view_module": "@jupyter-widgets/base",
            "overflow": null,
            "_model_module_version": "1.2.0",
            "_view_count": null,
            "flex_flow": null,
            "width": null,
            "min_width": null,
            "border": null,
            "align_items": null,
            "bottom": null,
            "_model_module": "@jupyter-widgets/base",
            "top": null,
            "grid_column": null,
            "overflow_y": null,
            "overflow_x": null,
            "grid_auto_flow": null,
            "grid_area": null,
            "grid_template_columns": null,
            "flex": null,
            "_model_name": "LayoutModel",
            "justify_items": null,
            "grid_row": null,
            "max_height": null,
            "align_content": null,
            "visibility": null,
            "align_self": null,
            "height": null,
            "min_height": null,
            "padding": null,
            "grid_auto_rows": null,
            "grid_gap": null,
            "max_width": null,
            "order": null,
            "_view_module_version": "1.2.0",
            "grid_template_areas": null,
            "object_position": null,
            "object_fit": null,
            "grid_auto_columns": null,
            "margin": null,
            "display": null,
            "left": null
          }
        },
        "39e3f2faae18410eb57481c131bbce3a": {
          "model_module": "@jupyter-widgets/controls",
          "model_name": "IntSliderModel",
          "state": {
            "_view_name": "IntSliderView",
            "style": "IPY_MODEL_8887c28904bf4ea6bd2d417282da79e8",
            "_dom_classes": [],
            "description": "n",
            "step": 1,
            "_model_name": "IntSliderModel",
            "orientation": "horizontal",
            "max": 9999,
            "_view_module": "@jupyter-widgets/controls",
            "_model_module_version": "1.5.0",
            "value": 4999,
            "_view_count": null,
            "disabled": false,
            "_view_module_version": "1.5.0",
            "min": 0,
            "continuous_update": true,
            "readout_format": "d",
            "description_tooltip": null,
            "readout": true,
            "_model_module": "@jupyter-widgets/controls",
            "layout": "IPY_MODEL_664fdc19602b4a4aa6db81013d59d58c"
          }
        },
        "27a6cf2868cb4f178981d229f0dbabad": {
          "model_module": "@jupyter-widgets/controls",
          "model_name": "ButtonModel",
          "state": {
            "_view_name": "ButtonView",
            "style": "IPY_MODEL_7b226e550f8449779c2d84d5150ad225",
            "_dom_classes": [],
            "description": "Run Interact",
            "_model_name": "ButtonModel",
            "button_style": "",
            "_view_module": "@jupyter-widgets/controls",
            "_model_module_version": "1.5.0",
            "tooltip": "",
            "_view_count": null,
            "disabled": false,
            "_view_module_version": "1.5.0",
            "layout": "IPY_MODEL_6f5419f226ad4530bb5c9852f24f1379",
            "_model_module": "@jupyter-widgets/controls",
            "icon": ""
          }
        },
        "761c84c47d584dbead03e9c91ff954b0": {
          "model_module": "@jupyter-widgets/output",
          "model_name": "OutputModel",
          "state": {
            "_view_name": "OutputView",
            "msg_id": "",
            "_dom_classes": [],
            "_model_name": "OutputModel",
            "outputs": [
              {
                "output_type": "stream",
                "metadata": {
                  "tags": []
                },
                "text": "我可愛的 CNN 預測是 0\n",
                "stream": "stdout"
              },
              {
                "output_type": "display_data",
                "metadata": {
                  "tags": [],
                  "needs_background": "light"
                },
                "image/png": "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\n",
                "text/plain": "<Figure size 432x288 with 1 Axes>"
              }
            ],
            "_view_module": "@jupyter-widgets/output",
            "_model_module_version": "1.0.0",
            "_view_count": null,
            "_view_module_version": "1.0.0",
            "layout": "IPY_MODEL_aff08564af3244808524f083c238dadf",
            "_model_module": "@jupyter-widgets/output"
          }
        },
        "8887c28904bf4ea6bd2d417282da79e8": {
          "model_module": "@jupyter-widgets/controls",
          "model_name": "SliderStyleModel",
          "state": {
            "_view_name": "StyleView",
            "handle_color": null,
            "_model_name": "SliderStyleModel",
            "description_width": "",
            "_view_module": "@jupyter-widgets/base",
            "_model_module_version": "1.5.0",
            "_view_count": null,
            "_view_module_version": "1.2.0",
            "_model_module": "@jupyter-widgets/controls"
          }
        },
        "664fdc19602b4a4aa6db81013d59d58c": {
          "model_module": "@jupyter-widgets/base",
          "model_name": "LayoutModel",
          "state": {
            "_view_name": "LayoutView",
            "grid_template_rows": null,
            "right": null,
            "justify_content": null,
            "_view_module": "@jupyter-widgets/base",
            "overflow": null,
            "_model_module_version": "1.2.0",
            "_view_count": null,
            "flex_flow": null,
            "width": null,
            "min_width": null,
            "border": null,
            "align_items": null,
            "bottom": null,
            "_model_module": "@jupyter-widgets/base",
            "top": null,
            "grid_column": null,
            "overflow_y": null,
            "overflow_x": null,
            "grid_auto_flow": null,
            "grid_area": null,
            "grid_template_columns": null,
            "flex": null,
            "_model_name": "LayoutModel",
            "justify_items": null,
            "grid_row": null,
            "max_height": null,
            "align_content": null,
            "visibility": null,
            "align_self": null,
            "height": null,
            "min_height": null,
            "padding": null,
            "grid_auto_rows": null,
            "grid_gap": null,
            "max_width": null,
            "order": null,
            "_view_module_version": "1.2.0",
            "grid_template_areas": null,
            "object_position": null,
            "object_fit": null,
            "grid_auto_columns": null,
            "margin": null,
            "display": null,
            "left": null
          }
        },
        "7b226e550f8449779c2d84d5150ad225": {
          "model_module": "@jupyter-widgets/controls",
          "model_name": "ButtonStyleModel",
          "state": {
            "_view_name": "StyleView",
            "_model_name": "ButtonStyleModel",
            "_view_module": "@jupyter-widgets/base",
            "_model_module_version": "1.5.0",
            "_view_count": null,
            "button_color": null,
            "font_weight": "",
            "_view_module_version": "1.2.0",
            "_model_module": "@jupyter-widgets/controls"
          }
        },
        "6f5419f226ad4530bb5c9852f24f1379": {
          "model_module": "@jupyter-widgets/base",
          "model_name": "LayoutModel",
          "state": {
            "_view_name": "LayoutView",
            "grid_template_rows": null,
            "right": null,
            "justify_content": null,
            "_view_module": "@jupyter-widgets/base",
            "overflow": null,
            "_model_module_version": "1.2.0",
            "_view_count": null,
            "flex_flow": null,
            "width": null,
            "min_width": null,
            "border": null,
            "align_items": null,
            "bottom": null,
            "_model_module": "@jupyter-widgets/base",
            "top": null,
            "grid_column": null,
            "overflow_y": null,
            "overflow_x": null,
            "grid_auto_flow": null,
            "grid_area": null,
            "grid_template_columns": null,
            "flex": null,
            "_model_name": "LayoutModel",
            "justify_items": null,
            "grid_row": null,
            "max_height": null,
            "align_content": null,
            "visibility": null,
            "align_self": null,
            "height": null,
            "min_height": null,
            "padding": null,
            "grid_auto_rows": null,
            "grid_gap": null,
            "max_width": null,
            "order": null,
            "_view_module_version": "1.2.0",
            "grid_template_areas": null,
            "object_position": null,
            "object_fit": null,
            "grid_auto_columns": null,
            "margin": null,
            "display": null,
            "left": null
          }
        },
        "aff08564af3244808524f083c238dadf": {
          "model_module": "@jupyter-widgets/base",
          "model_name": "LayoutModel",
          "state": {
            "_view_name": "LayoutView",
            "grid_template_rows": null,
            "right": null,
            "justify_content": null,
            "_view_module": "@jupyter-widgets/base",
            "overflow": null,
            "_model_module_version": "1.2.0",
            "_view_count": null,
            "flex_flow": null,
            "width": null,
            "min_width": null,
            "border": null,
            "align_items": null,
            "bottom": null,
            "_model_module": "@jupyter-widgets/base",
            "top": null,
            "grid_column": null,
            "overflow_y": null,
            "overflow_x": null,
            "grid_auto_flow": null,
            "grid_area": null,
            "grid_template_columns": null,
            "flex": null,
            "_model_name": "LayoutModel",
            "justify_items": null,
            "grid_row": null,
            "max_height": null,
            "align_content": null,
            "visibility": null,
            "align_self": null,
            "height": null,
            "min_height": null,
            "padding": null,
            "grid_auto_rows": null,
            "grid_gap": null,
            "max_width": null,
            "order": null,
            "_view_module_version": "1.2.0",
            "grid_template_areas": null,
            "object_position": null,
            "object_fit": null,
            "grid_auto_columns": null,
            "margin": null,
            "display": null,
            "left": null
          }
        }
      }
    }
  },
  "cells": [
    {
      "cell_type": "code",
      "metadata": {
        "id": "hAgyN_NrdifV"
      },
      "source": [
        "%matplotlib inline\n",
        "\n",
        "import numpy as np\n",
        "import matplotlib.pyplot as plt\n",
        "import pandas as pd"
      ],
      "execution_count": 1,
      "outputs": []
    },
    {
      "cell_type": "code",
      "metadata": {
        "id": "Z1MQ4wczdifV"
      },
      "source": [
        "from tensorflow.keras.utils import to_categorical\n",
        "from tensorflow.keras.models import Sequential\n",
        "from tensorflow.keras.layers import Conv2D, MaxPooling2D\n",
        "from tensorflow.keras.layers import Dense, Flatten\n",
        "from tensorflow.keras.optimizers import SGD"
      ],
      "execution_count": 2,
      "outputs": []
    },
    {
      "cell_type": "markdown",
      "metadata": {
        "id": "LjsD0f6KdifV"
      },
      "source": [
        "### 1. 讀入 MNSIT 數據集"
      ]
    },
    {
      "cell_type": "code",
      "metadata": {
        "id": "fAeZ9yy4difW"
      },
      "source": [
        "from tensorflow.keras.datasets import mnist"
      ],
      "execution_count": 3,
      "outputs": []
    },
    {
      "cell_type": "code",
      "metadata": {
        "id": "Yx0AdIr8difW"
      },
      "source": [
        "(x_train, y_train), (x_test, y_test) = mnist.load_data()"
      ],
      "execution_count": 4,
      "outputs": []
    },
    {
      "cell_type": "markdown",
      "metadata": {
        "id": "fut4LpPNdifW"
      },
      "source": [
        "### 2. 資料整理"
      ]
    },
    {
      "cell_type": "markdown",
      "metadata": {
        "id": "xlKeU28wdifW"
      },
      "source": [
        "### Channel\n",
        "\n",
        "CNN 要注意一張圖有多少個 channel, 開始我們因為只有灰階, 所以只有一個 channel。因此我們要轉一下我們的資料格式:\n",
        "\n",
        "    (28,28) --> (28, 28, 1)"
      ]
    },
    {
      "cell_type": "code",
      "metadata": {
        "id": "MmJYDKjhdifW"
      },
      "source": [
        "x_train = x_train.reshape(60000, 28, 28, 1) / 255"
      ],
      "execution_count": 5,
      "outputs": []
    },
    {
      "cell_type": "code",
      "metadata": {
        "id": "ArcsylWxdifW"
      },
      "source": [
        "x_test = x_test.reshape(10000, 28, 28, 1) / 255"
      ],
      "execution_count": 6,
      "outputs": []
    },
    {
      "cell_type": "code",
      "metadata": {
        "id": "T5-hqhBcdifW"
      },
      "source": [
        "y_train = to_categorical(y_train, 10)\n",
        "y_test = to_categorical(y_test, 10)"
      ],
      "execution_count": 7,
      "outputs": []
    },
    {
      "cell_type": "markdown",
      "metadata": {
        "id": "GhCxJIINdifW"
      },
      "source": [
        "### 3. step 1: 打造函數學習機 (CNN)"
      ]
    },
    {
      "cell_type": "code",
      "metadata": {
        "id": "qOoLTaRydifW"
      },
      "source": [
        "model = Sequential()"
      ],
      "execution_count": 8,
      "outputs": []
    },
    {
      "cell_type": "code",
      "metadata": {
        "id": "iI6SFkYLdifW"
      },
      "source": [
        "model.add(Conv2D(32, (3,3), padding='same', strides=(1,1),\n",
        "                input_shape=(28,28,1),\n",
        "                activation='relu'))"
      ],
      "execution_count": 9,
      "outputs": []
    },
    {
      "cell_type": "code",
      "metadata": {
        "id": "6tOA56ZAdifW"
      },
      "source": [
        "model.add(MaxPooling2D(pool_size=(2,2)))"
      ],
      "execution_count": 10,
      "outputs": []
    },
    {
      "cell_type": "code",
      "metadata": {
        "id": "Mv_KET-hdifW"
      },
      "source": [
        "model.add(Conv2D(64, (3,3), padding='same', strides=(1,1),\n",
        "                activation='relu'))"
      ],
      "execution_count": 11,
      "outputs": []
    },
    {
      "cell_type": "code",
      "metadata": {
        "id": "znGkTDZrdifW"
      },
      "source": [
        "model.add(MaxPooling2D(pool_size=(2,2)))"
      ],
      "execution_count": 12,
      "outputs": []
    },
    {
      "cell_type": "code",
      "metadata": {
        "id": "jU7a-Dn_difW"
      },
      "source": [
        "model.add(Conv2D(128, (3,3), padding='same',\n",
        "                activation='relu'))"
      ],
      "execution_count": 13,
      "outputs": []
    },
    {
      "cell_type": "code",
      "metadata": {
        "id": "fwAoTOdtdifW"
      },
      "source": [
        "model.add(MaxPooling2D(pool_size=(2,2)))"
      ],
      "execution_count": 14,
      "outputs": []
    },
    {
      "cell_type": "code",
      "metadata": {
        "id": "bdgxWMxlermU"
      },
      "source": [
        "model.add(Flatten())"
      ],
      "execution_count": 15,
      "outputs": []
    },
    {
      "cell_type": "code",
      "metadata": {
        "id": "cjQoFctoeqQL"
      },
      "source": [
        "model.add(Dense(870, activation='relu'))"
      ],
      "execution_count": 16,
      "outputs": []
    },
    {
      "cell_type": "code",
      "metadata": {
        "id": "aow_uwRceraN"
      },
      "source": [
        "model.add(Dense(600, activation='relu'))"
      ],
      "execution_count": 17,
      "outputs": []
    },
    {
      "cell_type": "code",
      "metadata": {
        "id": "FMx0EIMgdifW"
      },
      "source": [
        "model.add(Dense(10, activation='softmax'))"
      ],
      "execution_count": 18,
      "outputs": []
    },
    {
      "cell_type": "markdown",
      "metadata": {
        "id": "-vkw9YBEdifW"
      },
      "source": [
        "#### 看一下我們的神經網路"
      ]
    },
    {
      "cell_type": "code",
      "metadata": {
        "id": "iKtq0Ft1difW",
        "colab": {
          "base_uri": "https://localhost:8080/"
        },
        "outputId": "b446c92d-f2dd-4bb2-a2cf-3cc46de4dd8a"
      },
      "source": [
        "model.summary()"
      ],
      "execution_count": 19,
      "outputs": [
        {
          "output_type": "stream",
          "text": [
            "Model: \"sequential\"\n",
            "_________________________________________________________________\n",
            "Layer (type)                 Output Shape              Param #   \n",
            "=================================================================\n",
            "conv2d (Conv2D)              (None, 28, 28, 32)        320       \n",
            "_________________________________________________________________\n",
            "max_pooling2d (MaxPooling2D) (None, 14, 14, 32)        0         \n",
            "_________________________________________________________________\n",
            "conv2d_1 (Conv2D)            (None, 14, 14, 64)        18496     \n",
            "_________________________________________________________________\n",
            "max_pooling2d_1 (MaxPooling2 (None, 7, 7, 64)          0         \n",
            "_________________________________________________________________\n",
            "conv2d_2 (Conv2D)            (None, 7, 7, 128)         73856     \n",
            "_________________________________________________________________\n",
            "max_pooling2d_2 (MaxPooling2 (None, 3, 3, 128)         0         \n",
            "_________________________________________________________________\n",
            "flatten (Flatten)            (None, 1152)              0         \n",
            "_________________________________________________________________\n",
            "dense (Dense)                (None, 870)               1003110   \n",
            "_________________________________________________________________\n",
            "dense_1 (Dense)              (None, 600)               522600    \n",
            "_________________________________________________________________\n",
            "dense_2 (Dense)              (None, 10)                6010      \n",
            "=================================================================\n",
            "Total params: 1,624,392\n",
            "Trainable params: 1,624,392\n",
            "Non-trainable params: 0\n",
            "_________________________________________________________________\n"
          ],
          "name": "stdout"
        }
      ]
    },
    {
      "cell_type": "markdown",
      "metadata": {
        "id": "uWTvdsn7difX"
      },
      "source": [
        "#### 組裝"
      ]
    },
    {
      "cell_type": "code",
      "metadata": {
        "id": "XNv79f9TdifX"
      },
      "source": [
        "model.compile(loss='mse', optimizer=SGD(lr=0.123),\n",
        "             metrics=['accuracy'])"
      ],
      "execution_count": 20,
      "outputs": []
    },
    {
      "cell_type": "markdown",
      "metadata": {
        "id": "FocxTY_kdifX"
      },
      "source": [
        "### 4. step 2: fit"
      ]
    },
    {
      "cell_type": "code",
      "metadata": {
        "scrolled": true,
        "id": "trxaHbgXdifX",
        "colab": {
          "base_uri": "https://localhost:8080/"
        },
        "outputId": "6f952caa-6d48-4072-9d64-47434d065f38"
      },
      "source": [
        "model.fit(x_train, y_train, batch_size=354, epochs=18)"
      ],
      "execution_count": 21,
      "outputs": [
        {
          "output_type": "stream",
          "text": [
            "Epoch 1/18\n",
            "170/170 [==============================] - 2s 12ms/step - loss: 0.0898 - accuracy: 0.1762\n",
            "Epoch 2/18\n",
            "170/170 [==============================] - 2s 11ms/step - loss: 0.0893 - accuracy: 0.3682\n",
            "Epoch 3/18\n",
            "170/170 [==============================] - 2s 11ms/step - loss: 0.0886 - accuracy: 0.4253\n",
            "Epoch 4/18\n",
            "170/170 [==============================] - 2s 11ms/step - loss: 0.0872 - accuracy: 0.4691\n",
            "Epoch 5/18\n",
            "170/170 [==============================] - 2s 11ms/step - loss: 0.0819 - accuracy: 0.5014\n",
            "Epoch 6/18\n",
            "170/170 [==============================] - 2s 11ms/step - loss: 0.0514 - accuracy: 0.6949\n",
            "Epoch 7/18\n",
            "170/170 [==============================] - 2s 11ms/step - loss: 0.0267 - accuracy: 0.8303\n",
            "Epoch 8/18\n",
            "170/170 [==============================] - 2s 11ms/step - loss: 0.0193 - accuracy: 0.8759\n",
            "Epoch 9/18\n",
            "170/170 [==============================] - 2s 11ms/step - loss: 0.0151 - accuracy: 0.9030\n",
            "Epoch 10/18\n",
            "170/170 [==============================] - 2s 11ms/step - loss: 0.0125 - accuracy: 0.9209\n",
            "Epoch 11/18\n",
            "170/170 [==============================] - 2s 11ms/step - loss: 0.0108 - accuracy: 0.9312\n",
            "Epoch 12/18\n",
            "170/170 [==============================] - 2s 11ms/step - loss: 0.0096 - accuracy: 0.9398\n",
            "Epoch 13/18\n",
            "170/170 [==============================] - 2s 11ms/step - loss: 0.0087 - accuracy: 0.9454\n",
            "Epoch 14/18\n",
            "170/170 [==============================] - 2s 11ms/step - loss: 0.0080 - accuracy: 0.9504\n",
            "Epoch 15/18\n",
            "170/170 [==============================] - 2s 11ms/step - loss: 0.0074 - accuracy: 0.9536\n",
            "Epoch 16/18\n",
            "170/170 [==============================] - 2s 11ms/step - loss: 0.0070 - accuracy: 0.9564\n",
            "Epoch 17/18\n",
            "170/170 [==============================] - 2s 11ms/step - loss: 0.0065 - accuracy: 0.9595\n",
            "Epoch 18/18\n",
            "170/170 [==============================] - 2s 11ms/step - loss: 0.0062 - accuracy: 0.9600\n"
          ],
          "name": "stdout"
        },
        {
          "output_type": "execute_result",
          "data": {
            "text/plain": [
              "<tensorflow.python.keras.callbacks.History at 0x7f71301d6668>"
            ]
          },
          "metadata": {
            "tags": []
          },
          "execution_count": 21
        }
      ]
    },
    {
      "cell_type": "markdown",
      "metadata": {
        "id": "t6kid0BHdifX"
      },
      "source": [
        "### Step 3. 預測"
      ]
    },
    {
      "cell_type": "code",
      "metadata": {
        "id": "nXoJycc-difX",
        "colab": {
          "base_uri": "https://localhost:8080/"
        },
        "outputId": "7d4285eb-30ee-48e7-ab08-205f046a17d3"
      },
      "source": [
        "result = model.predict_classes(x_test)"
      ],
      "execution_count": 22,
      "outputs": [
        {
          "output_type": "stream",
          "text": [
            "WARNING:tensorflow:From <ipython-input-22-63af5bb2f9b6>:1: Sequential.predict_classes (from tensorflow.python.keras.engine.sequential) is deprecated and will be removed after 2021-01-01.\n",
            "Instructions for updating:\n",
            "Please use instead:* `np.argmax(model.predict(x), axis=-1)`,   if your model does multi-class classification   (e.g. if it uses a `softmax` last-layer activation).* `(model.predict(x) > 0.5).astype(\"int32\")`,   if your model does binary classification   (e.g. if it uses a `sigmoid` last-layer activation).\n"
          ],
          "name": "stdout"
        }
      ]
    },
    {
      "cell_type": "markdown",
      "metadata": {
        "id": "Q1UjL1VTdifX"
      },
      "source": [
        "### 看看測試資料表現如何"
      ]
    },
    {
      "cell_type": "code",
      "metadata": {
        "id": "Z2nM7dB6difX",
        "colab": {
          "base_uri": "https://localhost:8080/"
        },
        "outputId": "306e40e9-a6d4-490b-d203-4f6594b76338"
      },
      "source": [
        "loss, acc = model.evaluate(x_test, y_test)"
      ],
      "execution_count": 23,
      "outputs": [
        {
          "output_type": "stream",
          "text": [
            "313/313 [==============================] - 1s 2ms/step - loss: 0.0059 - accuracy: 0.9620\n"
          ],
          "name": "stdout"
        }
      ]
    },
    {
      "cell_type": "code",
      "metadata": {
        "id": "YxDSbBF-difY",
        "colab": {
          "base_uri": "https://localhost:8080/"
        },
        "outputId": "54751791-4b1d-46f7-d1d7-421224675d45"
      },
      "source": [
        "print(f'測試資料的正確率為 {acc*100:.2f}%')"
      ],
      "execution_count": 24,
      "outputs": [
        {
          "output_type": "stream",
          "text": [
            "測試資料的正確率為 96.20%\n"
          ],
          "name": "stdout"
        }
      ]
    },
    {
      "cell_type": "code",
      "metadata": {
        "id": "hXljyBfidifY"
      },
      "source": [
        "def my_predict(n):\n",
        "    print('我可愛的 CNN 預測是', result[n])\n",
        "    X = x_test[n].reshape(28,28)\n",
        "    plt.imshow(X, cmap='summer')"
      ],
      "execution_count": 25,
      "outputs": []
    },
    {
      "cell_type": "code",
      "metadata": {
        "id": "Y4i07T5UdifY"
      },
      "source": [
        "from ipywidgets import interact_manual"
      ],
      "execution_count": 26,
      "outputs": []
    },
    {
      "cell_type": "code",
      "metadata": {
        "id": "j8WZTIhhdifY",
        "colab": {
          "base_uri": "https://localhost:8080/",
          "height": 346,
          "referenced_widgets": [
            "843a00d0b20644eeb1779733d5cd00be",
            "86d966437e964a4b939c0f44fef08db6",
            "39e3f2faae18410eb57481c131bbce3a",
            "27a6cf2868cb4f178981d229f0dbabad",
            "761c84c47d584dbead03e9c91ff954b0",
            "8887c28904bf4ea6bd2d417282da79e8",
            "664fdc19602b4a4aa6db81013d59d58c",
            "7b226e550f8449779c2d84d5150ad225",
            "6f5419f226ad4530bb5c9852f24f1379",
            "aff08564af3244808524f083c238dadf"
          ]
        },
        "outputId": "73af3dac-bc85-4122-c83b-1f63ffcf07a0"
      },
      "source": [
        "interact_manual(my_predict, n=(0, 9999));"
      ],
      "execution_count": 27,
      "outputs": [
        {
          "output_type": "display_data",
          "data": {
            "application/vnd.jupyter.widget-view+json": {
              "model_id": "843a00d0b20644eeb1779733d5cd00be",
              "version_minor": 0,
              "version_major": 2
            },
            "text/plain": [
              "interactive(children=(IntSlider(value=4999, description='n', max=9999), Button(description='Run Interact', sty…"
            ]
          },
          "metadata": {
            "tags": []
          }
        }
      ]
    },
    {
      "cell_type": "markdown",
      "metadata": {
        "id": "jtzraMP2difY"
      },
      "source": [
        "### 把我們的 model 存起來"
      ]
    },
    {
      "cell_type": "code",
      "metadata": {
        "id": "oeG_SadSdifY"
      },
      "source": [
        "model.save('myCNNmodel.h5')"
      ],
      "execution_count": 28,
      "outputs": []
    }
  ]
}