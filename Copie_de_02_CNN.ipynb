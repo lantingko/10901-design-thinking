{
  "nbformat": 4,
  "nbformat_minor": 0,
  "metadata": {
    "kernelspec": {
      "display_name": "Python 3",
      "language": "python",
      "name": "python3"
    },
    "language_info": {
      "codemirror_mode": {
        "name": "ipython",
        "version": 3
      },
      "file_extension": ".py",
      "mimetype": "text/x-python",
      "name": "python",
      "nbconvert_exporter": "python",
      "pygments_lexer": "ipython3",
      "version": "3.7.3"
    },
    "colab": {
      "name": "Copie de 02 CNN.ipynb",
      "provenance": []
    },
    "accelerator": "GPU",
    "widgets": {
      "application/vnd.jupyter.widget-state+json": {
        "6e89bcac80b04cb8b04821230a24a23d": {
          "model_module": "@jupyter-widgets/controls",
          "model_name": "VBoxModel",
          "state": {
            "_view_name": "VBoxView",
            "_dom_classes": [
              "widget-interact"
            ],
            "_model_name": "VBoxModel",
            "_view_module": "@jupyter-widgets/controls",
            "_model_module_version": "1.5.0",
            "_view_count": null,
            "_view_module_version": "1.5.0",
            "box_style": "",
            "layout": "IPY_MODEL_570d386a70494d40bc6d76051adfeaa1",
            "_model_module": "@jupyter-widgets/controls",
            "children": [
              "IPY_MODEL_6e2f700b66274ce7ac1346b939bc4bd4",
              "IPY_MODEL_c2c3cb1159984569b4cfb88ed0666e9a",
              "IPY_MODEL_2fe1948bde7342dbbd76e475583f3f79"
            ]
          }
        },
        "570d386a70494d40bc6d76051adfeaa1": {
          "model_module": "@jupyter-widgets/base",
          "model_name": "LayoutModel",
          "state": {
            "_view_name": "LayoutView",
            "grid_template_rows": null,
            "right": null,
            "justify_content": null,
            "_view_module": "@jupyter-widgets/base",
            "overflow": null,
            "_model_module_version": "1.2.0",
            "_view_count": null,
            "flex_flow": null,
            "width": null,
            "min_width": null,
            "border": null,
            "align_items": null,
            "bottom": null,
            "_model_module": "@jupyter-widgets/base",
            "top": null,
            "grid_column": null,
            "overflow_y": null,
            "overflow_x": null,
            "grid_auto_flow": null,
            "grid_area": null,
            "grid_template_columns": null,
            "flex": null,
            "_model_name": "LayoutModel",
            "justify_items": null,
            "grid_row": null,
            "max_height": null,
            "align_content": null,
            "visibility": null,
            "align_self": null,
            "height": null,
            "min_height": null,
            "padding": null,
            "grid_auto_rows": null,
            "grid_gap": null,
            "max_width": null,
            "order": null,
            "_view_module_version": "1.2.0",
            "grid_template_areas": null,
            "object_position": null,
            "object_fit": null,
            "grid_auto_columns": null,
            "margin": null,
            "display": null,
            "left": null
          }
        },
        "6e2f700b66274ce7ac1346b939bc4bd4": {
          "model_module": "@jupyter-widgets/controls",
          "model_name": "IntSliderModel",
          "state": {
            "_view_name": "IntSliderView",
            "style": "IPY_MODEL_d7b124fb761a438b81a3075d4e4fe0da",
            "_dom_classes": [],
            "description": "n",
            "step": 1,
            "_model_name": "IntSliderModel",
            "orientation": "horizontal",
            "max": 9999,
            "_view_module": "@jupyter-widgets/controls",
            "_model_module_version": "1.5.0",
            "value": 7850,
            "_view_count": null,
            "disabled": false,
            "_view_module_version": "1.5.0",
            "min": 0,
            "continuous_update": true,
            "readout_format": "d",
            "description_tooltip": null,
            "readout": true,
            "_model_module": "@jupyter-widgets/controls",
            "layout": "IPY_MODEL_37a289707ce54ca8aae2c12bba36e0cc"
          }
        },
        "c2c3cb1159984569b4cfb88ed0666e9a": {
          "model_module": "@jupyter-widgets/controls",
          "model_name": "ButtonModel",
          "state": {
            "_view_name": "ButtonView",
            "style": "IPY_MODEL_9586c851ae154625a8fa1362d942f6f2",
            "_dom_classes": [],
            "description": "Run Interact",
            "_model_name": "ButtonModel",
            "button_style": "",
            "_view_module": "@jupyter-widgets/controls",
            "_model_module_version": "1.5.0",
            "tooltip": "",
            "_view_count": null,
            "disabled": false,
            "_view_module_version": "1.5.0",
            "layout": "IPY_MODEL_442316c7f6514fb393bd6a96323f5052",
            "_model_module": "@jupyter-widgets/controls",
            "icon": ""
          }
        },
        "2fe1948bde7342dbbd76e475583f3f79": {
          "model_module": "@jupyter-widgets/output",
          "model_name": "OutputModel",
          "state": {
            "_view_name": "OutputView",
            "msg_id": "",
            "_dom_classes": [],
            "_model_name": "OutputModel",
            "outputs": [
              {
                "output_type": "stream",
                "metadata": {
                  "tags": []
                },
                "text": "我可愛的 CNN 預測是 6\n",
                "stream": "stdout"
              },
              {
                "output_type": "display_data",
                "metadata": {
                  "tags": [],
                  "needs_background": "light"
                },
                "image/png": "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\n",
                "text/plain": "<Figure size 432x288 with 1 Axes>"
              }
            ],
            "_view_module": "@jupyter-widgets/output",
            "_model_module_version": "1.0.0",
            "_view_count": null,
            "_view_module_version": "1.0.0",
            "layout": "IPY_MODEL_07545cc188f048ee875a813be5cc34d0",
            "_model_module": "@jupyter-widgets/output"
          }
        },
        "d7b124fb761a438b81a3075d4e4fe0da": {
          "model_module": "@jupyter-widgets/controls",
          "model_name": "SliderStyleModel",
          "state": {
            "_view_name": "StyleView",
            "handle_color": null,
            "_model_name": "SliderStyleModel",
            "description_width": "",
            "_view_module": "@jupyter-widgets/base",
            "_model_module_version": "1.5.0",
            "_view_count": null,
            "_view_module_version": "1.2.0",
            "_model_module": "@jupyter-widgets/controls"
          }
        },
        "37a289707ce54ca8aae2c12bba36e0cc": {
          "model_module": "@jupyter-widgets/base",
          "model_name": "LayoutModel",
          "state": {
            "_view_name": "LayoutView",
            "grid_template_rows": null,
            "right": null,
            "justify_content": null,
            "_view_module": "@jupyter-widgets/base",
            "overflow": null,
            "_model_module_version": "1.2.0",
            "_view_count": null,
            "flex_flow": null,
            "width": null,
            "min_width": null,
            "border": null,
            "align_items": null,
            "bottom": null,
            "_model_module": "@jupyter-widgets/base",
            "top": null,
            "grid_column": null,
            "overflow_y": null,
            "overflow_x": null,
            "grid_auto_flow": null,
            "grid_area": null,
            "grid_template_columns": null,
            "flex": null,
            "_model_name": "LayoutModel",
            "justify_items": null,
            "grid_row": null,
            "max_height": null,
            "align_content": null,
            "visibility": null,
            "align_self": null,
            "height": null,
            "min_height": null,
            "padding": null,
            "grid_auto_rows": null,
            "grid_gap": null,
            "max_width": null,
            "order": null,
            "_view_module_version": "1.2.0",
            "grid_template_areas": null,
            "object_position": null,
            "object_fit": null,
            "grid_auto_columns": null,
            "margin": null,
            "display": null,
            "left": null
          }
        },
        "9586c851ae154625a8fa1362d942f6f2": {
          "model_module": "@jupyter-widgets/controls",
          "model_name": "ButtonStyleModel",
          "state": {
            "_view_name": "StyleView",
            "_model_name": "ButtonStyleModel",
            "_view_module": "@jupyter-widgets/base",
            "_model_module_version": "1.5.0",
            "_view_count": null,
            "button_color": null,
            "font_weight": "",
            "_view_module_version": "1.2.0",
            "_model_module": "@jupyter-widgets/controls"
          }
        },
        "442316c7f6514fb393bd6a96323f5052": {
          "model_module": "@jupyter-widgets/base",
          "model_name": "LayoutModel",
          "state": {
            "_view_name": "LayoutView",
            "grid_template_rows": null,
            "right": null,
            "justify_content": null,
            "_view_module": "@jupyter-widgets/base",
            "overflow": null,
            "_model_module_version": "1.2.0",
            "_view_count": null,
            "flex_flow": null,
            "width": null,
            "min_width": null,
            "border": null,
            "align_items": null,
            "bottom": null,
            "_model_module": "@jupyter-widgets/base",
            "top": null,
            "grid_column": null,
            "overflow_y": null,
            "overflow_x": null,
            "grid_auto_flow": null,
            "grid_area": null,
            "grid_template_columns": null,
            "flex": null,
            "_model_name": "LayoutModel",
            "justify_items": null,
            "grid_row": null,
            "max_height": null,
            "align_content": null,
            "visibility": null,
            "align_self": null,
            "height": null,
            "min_height": null,
            "padding": null,
            "grid_auto_rows": null,
            "grid_gap": null,
            "max_width": null,
            "order": null,
            "_view_module_version": "1.2.0",
            "grid_template_areas": null,
            "object_position": null,
            "object_fit": null,
            "grid_auto_columns": null,
            "margin": null,
            "display": null,
            "left": null
          }
        },
        "07545cc188f048ee875a813be5cc34d0": {
          "model_module": "@jupyter-widgets/base",
          "model_name": "LayoutModel",
          "state": {
            "_view_name": "LayoutView",
            "grid_template_rows": null,
            "right": null,
            "justify_content": null,
            "_view_module": "@jupyter-widgets/base",
            "overflow": null,
            "_model_module_version": "1.2.0",
            "_view_count": null,
            "flex_flow": null,
            "width": null,
            "min_width": null,
            "border": null,
            "align_items": null,
            "bottom": null,
            "_model_module": "@jupyter-widgets/base",
            "top": null,
            "grid_column": null,
            "overflow_y": null,
            "overflow_x": null,
            "grid_auto_flow": null,
            "grid_area": null,
            "grid_template_columns": null,
            "flex": null,
            "_model_name": "LayoutModel",
            "justify_items": null,
            "grid_row": null,
            "max_height": null,
            "align_content": null,
            "visibility": null,
            "align_self": null,
            "height": null,
            "min_height": null,
            "padding": null,
            "grid_auto_rows": null,
            "grid_gap": null,
            "max_width": null,
            "order": null,
            "_view_module_version": "1.2.0",
            "grid_template_areas": null,
            "object_position": null,
            "object_fit": null,
            "grid_auto_columns": null,
            "margin": null,
            "display": null,
            "left": null
          }
        }
      }
    }
  },
  "cells": [
    {
      "cell_type": "code",
      "metadata": {
        "id": "wbLTGVKP9Xlc"
      },
      "source": [
        "%matplotlib inline\n",
        "\n",
        "import numpy as np\n",
        "import matplotlib.pyplot as plt\n",
        "import pandas as pd"
      ],
      "execution_count": 1,
      "outputs": []
    },
    {
      "cell_type": "code",
      "metadata": {
        "id": "H2IpwuVM9Xli"
      },
      "source": [
        "from tensorflow.keras.utils import to_categorical\n",
        "from tensorflow.keras.models import Sequential\n",
        "from tensorflow.keras.layers import Conv2D, MaxPooling2D\n",
        "from tensorflow.keras.layers import Dense, Flatten\n",
        "from tensorflow.keras.optimizers import SGD"
      ],
      "execution_count": 2,
      "outputs": []
    },
    {
      "cell_type": "markdown",
      "metadata": {
        "id": "SokMXrlg9Xln"
      },
      "source": [
        "### 1. 讀入 MNSIT 數據集"
      ]
    },
    {
      "cell_type": "code",
      "metadata": {
        "id": "9x892AIz9Xln"
      },
      "source": [
        "from tensorflow.keras.datasets import mnist"
      ],
      "execution_count": 3,
      "outputs": []
    },
    {
      "cell_type": "code",
      "metadata": {
        "id": "wPZEP9zX9Xlr",
        "outputId": "3cf6588f-1ff9-49c5-8366-8c085bd4d0f1",
        "colab": {
          "base_uri": "https://localhost:8080/"
        }
      },
      "source": [
        "(x_train, y_train), (x_test, y_test) = mnist.load_data()"
      ],
      "execution_count": 4,
      "outputs": [
        {
          "output_type": "stream",
          "text": [
            "Downloading data from https://storage.googleapis.com/tensorflow/tf-keras-datasets/mnist.npz\n",
            "11493376/11490434 [==============================] - 0s 0us/step\n"
          ],
          "name": "stdout"
        }
      ]
    },
    {
      "cell_type": "markdown",
      "metadata": {
        "id": "C-rECkAU9Xlt"
      },
      "source": [
        "### 2. 資料整理"
      ]
    },
    {
      "cell_type": "markdown",
      "metadata": {
        "id": "QdtPdQ_p9Xlu"
      },
      "source": [
        "### Channel\n",
        "\n",
        "CNN 要注意一張圖有多少個 channel, 開始我們因為只有灰階, 所以只有一個 channel。因此我們要轉一下我們的資料格式:\n",
        "\n",
        "    (28,28) --> (28, 28, 1)"
      ]
    },
    {
      "cell_type": "code",
      "metadata": {
        "id": "bPR_hJmq9Xlu"
      },
      "source": [
        "x_train = x_train.reshape(60000, 28, 28, 1) / 255"
      ],
      "execution_count": 5,
      "outputs": []
    },
    {
      "cell_type": "code",
      "metadata": {
        "id": "u7olhr-G9Xlx"
      },
      "source": [
        "x_test = x_test.reshape(10000, 28, 28, 1) / 255"
      ],
      "execution_count": 6,
      "outputs": []
    },
    {
      "cell_type": "code",
      "metadata": {
        "id": "UxLpcn189Xl0"
      },
      "source": [
        "y_train = to_categorical(y_train, 10)\n",
        "y_test = to_categorical(y_test, 10)"
      ],
      "execution_count": 7,
      "outputs": []
    },
    {
      "cell_type": "markdown",
      "metadata": {
        "id": "XU4zIVs_9Xl3"
      },
      "source": [
        "### 3. step 1: 打造函數學習機 (CNN)"
      ]
    },
    {
      "cell_type": "code",
      "metadata": {
        "id": "9gDI6ZC29Xl3"
      },
      "source": [
        "model = Sequential()"
      ],
      "execution_count": 8,
      "outputs": []
    },
    {
      "cell_type": "code",
      "metadata": {
        "id": "LFl6dhNd9Xl7"
      },
      "source": [
        "model.add(Conv2D(8, (3,3), padding='same',\n",
        "                input_shape=(28,28,1),\n",
        "                activation='relu'))"
      ],
      "execution_count": 9,
      "outputs": []
    },
    {
      "cell_type": "code",
      "metadata": {
        "id": "2oHSNXW69Xl-"
      },
      "source": [
        "model.add(MaxPooling2D(pool_size=(2,2)))"
      ],
      "execution_count": 10,
      "outputs": []
    },
    {
      "cell_type": "code",
      "metadata": {
        "id": "Bj6qWK8K9XmA"
      },
      "source": [
        "model.add(Conv2D(16, (3,3), padding='same',\n",
        "                activation='relu'))"
      ],
      "execution_count": 11,
      "outputs": []
    },
    {
      "cell_type": "code",
      "metadata": {
        "id": "L7uV-pCd9XmC"
      },
      "source": [
        "model.add(MaxPooling2D(pool_size=(2,2)))"
      ],
      "execution_count": 12,
      "outputs": []
    },
    {
      "cell_type": "code",
      "metadata": {
        "id": "Fj8Bfx-s9XmE"
      },
      "source": [
        "model.add(Conv2D(32, (3,3), padding='same',\n",
        "                activation='relu'))"
      ],
      "execution_count": 13,
      "outputs": []
    },
    {
      "cell_type": "code",
      "metadata": {
        "id": "Y8uhozZz9XmG"
      },
      "source": [
        "model.add(MaxPooling2D(pool_size=(2,2)))"
      ],
      "execution_count": 14,
      "outputs": []
    },
    {
      "cell_type": "code",
      "metadata": {
        "id": "mAsk48Zg9XmI"
      },
      "source": [
        "model.add(Flatten())"
      ],
      "execution_count": 15,
      "outputs": []
    },
    {
      "cell_type": "code",
      "metadata": {
        "id": "XwcsMtuD9XmK"
      },
      "source": [
        "model.add(Dense(20, activation='relu'))"
      ],
      "execution_count": 16,
      "outputs": []
    },
    {
      "cell_type": "code",
      "metadata": {
        "id": "dYOU1jv49XmL"
      },
      "source": [
        "model.add(Dense(10, activation='softmax'))"
      ],
      "execution_count": 17,
      "outputs": []
    },
    {
      "cell_type": "markdown",
      "metadata": {
        "id": "YGC9DWe19XmM"
      },
      "source": [
        "#### 看一下我們的神經網路"
      ]
    },
    {
      "cell_type": "code",
      "metadata": {
        "id": "24kT0Bdr9XmN",
        "outputId": "63e3ecd2-4da8-4ba8-e7ba-bf952e2a498d",
        "colab": {
          "base_uri": "https://localhost:8080/"
        }
      },
      "source": [
        "model.summary()"
      ],
      "execution_count": 18,
      "outputs": [
        {
          "output_type": "stream",
          "text": [
            "Model: \"sequential\"\n",
            "_________________________________________________________________\n",
            "Layer (type)                 Output Shape              Param #   \n",
            "=================================================================\n",
            "conv2d (Conv2D)              (None, 28, 28, 8)         80        \n",
            "_________________________________________________________________\n",
            "max_pooling2d (MaxPooling2D) (None, 14, 14, 8)         0         \n",
            "_________________________________________________________________\n",
            "conv2d_1 (Conv2D)            (None, 14, 14, 16)        1168      \n",
            "_________________________________________________________________\n",
            "max_pooling2d_1 (MaxPooling2 (None, 7, 7, 16)          0         \n",
            "_________________________________________________________________\n",
            "conv2d_2 (Conv2D)            (None, 7, 7, 32)          4640      \n",
            "_________________________________________________________________\n",
            "max_pooling2d_2 (MaxPooling2 (None, 3, 3, 32)          0         \n",
            "_________________________________________________________________\n",
            "flatten (Flatten)            (None, 288)               0         \n",
            "_________________________________________________________________\n",
            "dense (Dense)                (None, 20)                5780      \n",
            "_________________________________________________________________\n",
            "dense_1 (Dense)              (None, 10)                210       \n",
            "=================================================================\n",
            "Total params: 11,878\n",
            "Trainable params: 11,878\n",
            "Non-trainable params: 0\n",
            "_________________________________________________________________\n"
          ],
          "name": "stdout"
        }
      ]
    },
    {
      "cell_type": "markdown",
      "metadata": {
        "id": "jU9JgV9Y9XmO"
      },
      "source": [
        "#### 組裝"
      ]
    },
    {
      "cell_type": "code",
      "metadata": {
        "id": "e0l4lvoy9XmP"
      },
      "source": [
        "model.compile(loss='mse', optimizer=SGD(lr=0.087),\n",
        "             metrics=['accuracy'])"
      ],
      "execution_count": 19,
      "outputs": []
    },
    {
      "cell_type": "markdown",
      "metadata": {
        "id": "Fx3VYL-m9XmQ"
      },
      "source": [
        "### 4. step 2: fit"
      ]
    },
    {
      "cell_type": "code",
      "metadata": {
        "scrolled": true,
        "id": "ZHA0sXfo9XmQ",
        "outputId": "1cd0d20e-0ad2-4448-8137-460b1fa6b258",
        "colab": {
          "base_uri": "https://localhost:8080/"
        }
      },
      "source": [
        "model.fit(x_train, y_train, batch_size=128, epochs=12)"
      ],
      "execution_count": 20,
      "outputs": [
        {
          "output_type": "stream",
          "text": [
            "Epoch 1/12\n",
            "469/469 [==============================] - 2s 3ms/step - loss: 0.0895 - accuracy: 0.1407\n",
            "Epoch 2/12\n",
            "469/469 [==============================] - 1s 3ms/step - loss: 0.0882 - accuracy: 0.3081\n",
            "Epoch 3/12\n",
            "469/469 [==============================] - 1s 3ms/step - loss: 0.0817 - accuracy: 0.4372\n",
            "Epoch 4/12\n",
            "469/469 [==============================] - 2s 3ms/step - loss: 0.0403 - accuracy: 0.7473\n",
            "Epoch 5/12\n",
            "469/469 [==============================] - 1s 3ms/step - loss: 0.0204 - accuracy: 0.8686\n",
            "Epoch 6/12\n",
            "469/469 [==============================] - 2s 3ms/step - loss: 0.0148 - accuracy: 0.9049\n",
            "Epoch 7/12\n",
            "469/469 [==============================] - 2s 3ms/step - loss: 0.0120 - accuracy: 0.9229\n",
            "Epoch 8/12\n",
            "469/469 [==============================] - 1s 3ms/step - loss: 0.0104 - accuracy: 0.9338\n",
            "Epoch 9/12\n",
            "469/469 [==============================] - 1s 3ms/step - loss: 0.0092 - accuracy: 0.9416\n",
            "Epoch 10/12\n",
            "469/469 [==============================] - 2s 3ms/step - loss: 0.0084 - accuracy: 0.9463\n",
            "Epoch 11/12\n",
            "469/469 [==============================] - 1s 3ms/step - loss: 0.0077 - accuracy: 0.9510\n",
            "Epoch 12/12\n",
            "469/469 [==============================] - 2s 3ms/step - loss: 0.0072 - accuracy: 0.9533\n"
          ],
          "name": "stdout"
        },
        {
          "output_type": "execute_result",
          "data": {
            "text/plain": [
              "<tensorflow.python.keras.callbacks.History at 0x7fb9702a5550>"
            ]
          },
          "metadata": {
            "tags": []
          },
          "execution_count": 20
        }
      ]
    },
    {
      "cell_type": "markdown",
      "metadata": {
        "id": "ZzhU466T9XmS"
      },
      "source": [
        "### Step 3. 預測"
      ]
    },
    {
      "cell_type": "code",
      "metadata": {
        "id": "SZ-kLlcT9XmS",
        "outputId": "1bb9424f-5715-4c9b-e192-968bf2876f77",
        "colab": {
          "base_uri": "https://localhost:8080/"
        }
      },
      "source": [
        "result = model.predict_classes(x_test)"
      ],
      "execution_count": 21,
      "outputs": [
        {
          "output_type": "stream",
          "text": [
            "WARNING:tensorflow:From <ipython-input-21-63af5bb2f9b6>:1: Sequential.predict_classes (from tensorflow.python.keras.engine.sequential) is deprecated and will be removed after 2021-01-01.\n",
            "Instructions for updating:\n",
            "Please use instead:* `np.argmax(model.predict(x), axis=-1)`,   if your model does multi-class classification   (e.g. if it uses a `softmax` last-layer activation).* `(model.predict(x) > 0.5).astype(\"int32\")`,   if your model does binary classification   (e.g. if it uses a `sigmoid` last-layer activation).\n"
          ],
          "name": "stdout"
        }
      ]
    },
    {
      "cell_type": "markdown",
      "metadata": {
        "id": "xxDlDEmK9XmT"
      },
      "source": [
        "### 看看測試資料表現如何"
      ]
    },
    {
      "cell_type": "code",
      "metadata": {
        "id": "vIutCUVS9XmU",
        "outputId": "df0110f3-239f-4aed-dcc6-c68aacee9302",
        "colab": {
          "base_uri": "https://localhost:8080/"
        }
      },
      "source": [
        "loss, acc = model.evaluate(x_test, y_test)"
      ],
      "execution_count": 22,
      "outputs": [
        {
          "output_type": "stream",
          "text": [
            "313/313 [==============================] - 1s 2ms/step - loss: 0.0064 - accuracy: 0.9614\n"
          ],
          "name": "stdout"
        }
      ]
    },
    {
      "cell_type": "code",
      "metadata": {
        "id": "wlacBhiP9XmV",
        "outputId": "4f985e7b-7ba4-4d62-dfe1-78a3d6dd446a",
        "colab": {
          "base_uri": "https://localhost:8080/"
        }
      },
      "source": [
        "print(f'測試資料的正確率為 {acc*100:.2f}%')"
      ],
      "execution_count": 23,
      "outputs": [
        {
          "output_type": "stream",
          "text": [
            "測試資料的正確率為 96.14%\n"
          ],
          "name": "stdout"
        }
      ]
    },
    {
      "cell_type": "code",
      "metadata": {
        "id": "Tk1--Vov9XmW"
      },
      "source": [
        "def my_predict(n):\n",
        "    print('我可愛的 CNN 預測是', result[n])\n",
        "    X = x_test[n].reshape(28,28)\n",
        "    plt.imshow(X, cmap='Greys')"
      ],
      "execution_count": 24,
      "outputs": []
    },
    {
      "cell_type": "code",
      "metadata": {
        "id": "tVW3X22U9XmY"
      },
      "source": [
        "from ipywidgets import interact_manual"
      ],
      "execution_count": 25,
      "outputs": []
    },
    {
      "cell_type": "code",
      "metadata": {
        "id": "3oahyIhk9XmZ",
        "outputId": "99968c83-b1e1-4398-8812-d9e5f84f80f1",
        "colab": {
          "base_uri": "https://localhost:8080/",
          "height": 346,
          "referenced_widgets": [
            "6e89bcac80b04cb8b04821230a24a23d",
            "570d386a70494d40bc6d76051adfeaa1",
            "6e2f700b66274ce7ac1346b939bc4bd4",
            "c2c3cb1159984569b4cfb88ed0666e9a",
            "2fe1948bde7342dbbd76e475583f3f79",
            "d7b124fb761a438b81a3075d4e4fe0da",
            "37a289707ce54ca8aae2c12bba36e0cc",
            "9586c851ae154625a8fa1362d942f6f2",
            "442316c7f6514fb393bd6a96323f5052",
            "07545cc188f048ee875a813be5cc34d0"
          ]
        }
      },
      "source": [
        "interact_manual(my_predict, n=(0, 9999));"
      ],
      "execution_count": 26,
      "outputs": [
        {
          "output_type": "display_data",
          "data": {
            "application/vnd.jupyter.widget-view+json": {
              "model_id": "6e89bcac80b04cb8b04821230a24a23d",
              "version_minor": 0,
              "version_major": 2
            },
            "text/plain": [
              "interactive(children=(IntSlider(value=4999, description='n', max=9999), Button(description='Run Interact', sty…"
            ]
          },
          "metadata": {
            "tags": []
          }
        }
      ]
    },
    {
      "cell_type": "markdown",
      "metadata": {
        "id": "oe5KOpe49Xma"
      },
      "source": [
        "### 把我們的 model 存起來"
      ]
    },
    {
      "cell_type": "code",
      "metadata": {
        "id": "M7g16MOd9Xma"
      },
      "source": [
        "model.save('myCNNmodel.h5')"
      ],
      "execution_count": null,
      "outputs": []
    }
  ]
}